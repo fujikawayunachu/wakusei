{
 "cells": [
  {
   "cell_type": "code",
   "execution_count": 1,
   "id": "50cb2629",
   "metadata": {},
   "outputs": [
    {
     "data": {
      "text/html": [
       "<div id=\"glowscript\" class=\"glowscript\"></div>"
      ],
      "text/plain": [
       "<IPython.core.display.HTML object>"
      ]
     },
     "metadata": {},
     "output_type": "display_data"
    },
    {
     "data": {
      "application/javascript": [
       "if (typeof Jupyter !== \"undefined\") { window.__context = { glowscript_container: $(\"#glowscript\").removeAttr(\"id\")};}else{ element.textContent = ' ';}"
      ],
      "text/plain": [
       "<IPython.core.display.Javascript object>"
      ]
     },
     "metadata": {},
     "output_type": "display_data"
    },
    {
     "data": {
      "application/javascript": [
       "if (typeof Jupyter !== \"undefined\") {require.undef(\"nbextensions/vpython_libraries/glow.min\");}else{element.textContent = ' ';}"
      ],
      "text/plain": [
       "<IPython.core.display.Javascript object>"
      ]
     },
     "metadata": {},
     "output_type": "display_data"
    },
    {
     "data": {
      "application/javascript": [
       "if (typeof Jupyter !== \"undefined\") {require.undef(\"nbextensions/vpython_libraries/glowcomm\");}else{element.textContent = ' ';}"
      ],
      "text/plain": [
       "<IPython.core.display.Javascript object>"
      ]
     },
     "metadata": {},
     "output_type": "display_data"
    },
    {
     "data": {
      "application/javascript": [
       "if (typeof Jupyter !== \"undefined\") {require.undef(\"nbextensions/vpython_libraries/jquery-ui.custom.min\");}else{element.textContent = ' ';}"
      ],
      "text/plain": [
       "<IPython.core.display.Javascript object>"
      ]
     },
     "metadata": {},
     "output_type": "display_data"
    },
    {
     "data": {
      "application/javascript": [
       "if (typeof Jupyter !== \"undefined\") {require([\"nbextensions/vpython_libraries/glow.min\"], function(){console.log(\"GLOW LOADED\");});}else{element.textContent = ' ';}"
      ],
      "text/plain": [
       "<IPython.core.display.Javascript object>"
      ]
     },
     "metadata": {},
     "output_type": "display_data"
    },
    {
     "data": {
      "application/javascript": [
       "if (typeof Jupyter !== \"undefined\") {require([\"nbextensions/vpython_libraries/glowcomm\"], function(){console.log(\"GLOWCOMM LOADED\");});}else{element.textContent = ' ';}"
      ],
      "text/plain": [
       "<IPython.core.display.Javascript object>"
      ]
     },
     "metadata": {},
     "output_type": "display_data"
    },
    {
     "data": {
      "application/javascript": [
       "if (typeof Jupyter !== \"undefined\") {require([\"nbextensions/vpython_libraries/jquery-ui.custom.min\"], function(){console.log(\"JQUERY LOADED\");});}else{element.textContent = ' ';}"
      ],
      "text/plain": [
       "<IPython.core.display.Javascript object>"
      ]
     },
     "metadata": {},
     "output_type": "display_data"
    },
    {
     "ename": "KeyboardInterrupt",
     "evalue": "",
     "output_type": "error",
     "traceback": [
      "\u001b[1;31m---------------------------------------------------------------------------\u001b[0m",
      "\u001b[1;31mKeyboardInterrupt\u001b[0m                         Traceback (most recent call last)",
      "Cell \u001b[1;32mIn[1], line 85\u001b[0m\n\u001b[0;32m     82\u001b[0m         yzahyo1\u001b[38;5;241m.\u001b[39mappend(s1\u001b[38;5;241m.\u001b[39mpos\u001b[38;5;241m.\u001b[39my)\u001b[38;5;66;03m#座標を記録しているリスト。散布図を描画すれば軌跡がかけます\u001b[39;00m\n\u001b[0;32m     84\u001b[0m \u001b[38;5;28;01mif\u001b[39;00m \u001b[38;5;18m__name__\u001b[39m \u001b[38;5;241m==\u001b[39m \u001b[38;5;124m'\u001b[39m\u001b[38;5;124m__main__\u001b[39m\u001b[38;5;124m'\u001b[39m:\n\u001b[1;32m---> 85\u001b[0m     \u001b[43mmain\u001b[49m\u001b[43m(\u001b[49m\u001b[43m)\u001b[49m\n",
      "Cell \u001b[1;32mIn[1], line 45\u001b[0m, in \u001b[0;36mmain\u001b[1;34m()\u001b[0m\n\u001b[0;32m     40\u001b[0m M2 \u001b[38;5;241m=\u001b[39m  \u001b[38;5;241m2\u001b[39m \u001b[38;5;66;03m#衛星の質量\u001b[39;00m\n\u001b[0;32m     42\u001b[0m \u001b[38;5;28;01mwhile\u001b[39;00m \u001b[38;5;28;01mTrue\u001b[39;00m:\n\u001b[0;32m     43\u001b[0m    \n\u001b[0;32m     44\u001b[0m     \u001b[38;5;66;03m# フレームレート\u001b[39;00m\n\u001b[1;32m---> 45\u001b[0m     \u001b[43mvs\u001b[49m\u001b[38;5;241;43m.\u001b[39;49m\u001b[43mrate\u001b[49m\u001b[43m(\u001b[49m\u001b[38;5;241;43m30\u001b[39;49m\u001b[43m)\u001b[49m\n\u001b[0;32m     46\u001b[0m     \u001b[38;5;66;03m#ベクトルｒの計算（惑星の座標　ー　衛星の座標）\u001b[39;00m\n\u001b[0;32m     47\u001b[0m     vecx \u001b[38;5;241m=\u001b[39m s1\u001b[38;5;241m.\u001b[39mpos\u001b[38;5;241m.\u001b[39mx \u001b[38;5;241m-\u001b[39m s2\u001b[38;5;241m.\u001b[39mpos\u001b[38;5;241m.\u001b[39mx       \u001b[38;5;66;03m# \u001b[39;00m\n",
      "File \u001b[1;32m~\\AppData\\Local\\Programs\\Python\\Python311\\Lib\\site-packages\\vpython\\rate_control.py:266\u001b[0m, in \u001b[0;36m_RateKeeper2.__call__\u001b[1;34m(self, N)\u001b[0m\n\u001b[0;32m    264\u001b[0m \u001b[38;5;28mself\u001b[39m\u001b[38;5;241m.\u001b[39mrval \u001b[38;5;241m=\u001b[39m N\n\u001b[0;32m    265\u001b[0m \u001b[38;5;28;01mif\u001b[39;00m \u001b[38;5;28mself\u001b[39m\u001b[38;5;241m.\u001b[39mrval \u001b[38;5;241m<\u001b[39m \u001b[38;5;241m1\u001b[39m: \u001b[38;5;28;01mraise\u001b[39;00m \u001b[38;5;167;01mValueError\u001b[39;00m(\u001b[38;5;124m\"\u001b[39m\u001b[38;5;124mrate value must be greater than or equal to 1\u001b[39m\u001b[38;5;124m\"\u001b[39m)\n\u001b[1;32m--> 266\u001b[0m \u001b[38;5;28;43msuper\u001b[39;49m\u001b[43m(\u001b[49m\u001b[43m_RateKeeper2\u001b[49m\u001b[43m,\u001b[49m\u001b[43m \u001b[49m\u001b[38;5;28;43mself\u001b[39;49m\u001b[43m)\u001b[49m\u001b[38;5;241;43m.\u001b[39;49m\u001b[38;5;21;43m__call__\u001b[39;49m\u001b[43m(\u001b[49m\u001b[38;5;28;43mself\u001b[39;49m\u001b[38;5;241;43m.\u001b[39;49m\u001b[43mrval\u001b[49m\u001b[43m)\u001b[49m\n",
      "File \u001b[1;32m~\\AppData\\Local\\Programs\\Python\\Python311\\Lib\\site-packages\\vpython\\rate_control.py:214\u001b[0m, in \u001b[0;36mRateKeeper.__call__\u001b[1;34m(self, maxRate)\u001b[0m\n\u001b[0;32m    212\u001b[0m \u001b[38;5;28;01mif\u001b[39;00m \u001b[38;5;28mself\u001b[39m\u001b[38;5;241m.\u001b[39mwhenToRender[\u001b[38;5;28mself\u001b[39m\u001b[38;5;241m.\u001b[39mrenderIndex] \u001b[38;5;241m==\u001b[39m \u001b[38;5;28mself\u001b[39m\u001b[38;5;241m.\u001b[39mrateCount:\n\u001b[0;32m    213\u001b[0m     sleeps \u001b[38;5;241m+\u001b[39m\u001b[38;5;241m=\u001b[39m \u001b[38;5;241m1\u001b[39m\n\u001b[1;32m--> 214\u001b[0m     \u001b[43m_sleep\u001b[49m\u001b[43m(\u001b[49m\u001b[38;5;28;43mself\u001b[39;49m\u001b[38;5;241;43m.\u001b[39;49m\u001b[43minteractionPeriod\u001b[49m\u001b[43m)\u001b[49m\n\u001b[0;32m    215\u001b[0m \u001b[38;5;28;01melse\u001b[39;00m:\n\u001b[0;32m    216\u001b[0m     \u001b[38;5;28;01mbreak\u001b[39;00m\n",
      "File \u001b[1;32m~\\AppData\\Local\\Programs\\Python\\Python311\\Lib\\site-packages\\vpython\\rate_control.py:62\u001b[0m, in \u001b[0;36m_sleep\u001b[1;34m(dt)\u001b[0m\n\u001b[0;32m     60\u001b[0m dtsleep \u001b[38;5;241m=\u001b[39m nticks\u001b[38;5;241m*\u001b[39m_tick\n\u001b[0;32m     61\u001b[0m t \u001b[38;5;241m=\u001b[39m _clock()\n\u001b[1;32m---> 62\u001b[0m time\u001b[38;5;241m.\u001b[39msleep(dtsleep)\n\u001b[0;32m     63\u001b[0m t \u001b[38;5;241m=\u001b[39m _clock()\u001b[38;5;241m-\u001b[39mt\n\u001b[0;32m     64\u001b[0m dt \u001b[38;5;241m-\u001b[39m\u001b[38;5;241m=\u001b[39m t\n",
      "\u001b[1;31mKeyboardInterrupt\u001b[0m: "
     ]
    }
   ],
   "source": [
    "import vpython as vs\n",
    "import numpy as np\n",
    "import vpython as vs\n",
    "import time\n",
    "\n",
    "xzahyo =[]# 衛星の座標の軌跡をためておくリスト（ｘ座標\n",
    "yzahyo=[] #衛星の座標の軌跡をためておくリスト（ｙ座標\n",
    "\n",
    "xzahyo1 =[] ## 惑星の座標の軌跡をためておくリスト（ｘ座標\n",
    "yzahyo1=[]   #### 惑星の座標の軌跡をためておくリスト（ｙ座標\n",
    "def main():\n",
    "    # シーンの範囲\n",
    "    vs.scene.range = 20\n",
    "\n",
    "    # 箱のサイズ\n",
    "    l, h, w = 2, 2, 2\n",
    "\n",
    "    # 箱の中心位置\n",
    "#     x, y, z = 0, 0, 0\n",
    "\n",
    "    # 箱の定義\n",
    "    s1 = vs.sphere(color=vs.vector(255,255,255),# 惑星の色情報　白\n",
    "                 pos=vs.vector(0,0,0), #惑星の最初の座標\n",
    "                 size=vs.vector(l,h, w),#惑星のサイズ\n",
    "#                  axis=vs.vector(l, 0, 0)\n",
    "                 )\n",
    "    \n",
    "    s2 = vs.sphere(color=vs.vector(0,255,0),# 衛星の色情報　緑\n",
    "                 pos=vs.vector(0,10,0),# 衛星最初の座標\n",
    "                 size=vs.vector(l,h, w),# 衛星最初のサイズ\n",
    "#                  axis=vs.vector(l, 0, 0)\n",
    "                 )\n",
    "    \n",
    "\n",
    "    \n",
    "    v0 = np.array([0.15,0,0])   #衛星の初速度ベクトル\n",
    "    v00 = np.array([0,0,0])     # 惑星の初速度ベクトル\n",
    "    \n",
    "    M1 = 50#惑星の質量\n",
    "    M2 =  2 #衛星の質量\n",
    "\n",
    "    while True:\n",
    "       \n",
    "        # フレームレート\n",
    "        vs.rate(30)\n",
    "        #ベクトルｒの計算（惑星の座標　ー　衛星の座標）\n",
    "        vecx = s1.pos.x - s2.pos.x       # \n",
    "        vecy = s1.pos.y - s2.pos.y\n",
    "        vecz = s1.pos.z - s2.pos.z\n",
    "        \n",
    "        r  = np.sqrt ( vecx*vecx + vecy* vecy +  vecz * vecz)\n",
    "        \n",
    "        \n",
    "        \n",
    "        F = 0.01* np.array([( M1 * M2 * vecx )/(r**3)  ,( M1 * M2 * vecy )/(r**3) ,( M1 * M2 * vecz )/(r**3)]) \n",
    "        \n",
    "        ### 万有引力定数は０．０１にしました。めちゃくちゃですが。#\n",
    "        # ベクトルＦの計算をしています。\n",
    "        \n",
    "        dv2dt = F/ (M2) #衛星の加速度ベクトル \n",
    "        \n",
    "        dv1dt = F/M1 #惑星の加速度ベクトル\n",
    "        \n",
    "        v0 = v0 + dv2dt#####衛星の速度ベクトルに加速度ベクトル＊ｄｔを加えて更新    #オイラー法　v =v+dvdt* dt の＊ｄｔは省略\n",
    "        v00 = v00 +  dv1dt#####惑星星の速度ベクトルに加速度ベクトル＊ｄｔを加えて更新　\n",
    "        \n",
    "        \n",
    "        \n",
    "        s1.pos = vs.vector(s1.pos.x + v00[0],s1.pos.y + v00[1] , s1.pos.z + v00[2] )\n",
    "#         s1.pos = vs.vector(s1.pos.x ,s1.pos.y  , s1.pos.z )\n",
    "        ####衛星の座標ベクトルに速度ベクトル＊ｄｔを加えて更新    #オイラー法　ｘ =ｘ+　vdt* dt の＊ｄｔは省略\n",
    "        s2.pos = vs.vector(s2.pos.x + v0[0],s2.pos.y + v0[1] , s2.pos.z + v0[2] )\n",
    "        ####惑星の座標ベクトルに速度ベクトル＊ｄｔを加えて更新    #オイラー法　ｘ =ｘ+　vdt* dt の＊ｄｔは省略\n",
    "     \n",
    "\n",
    "        \n",
    "#         print(s1.pos)\n",
    "        xzahyo.append(s2.pos.x)\n",
    "        yzahyo.append(s2.pos.y)\n",
    "        \n",
    "        xzahyo1.append(s1.pos.x)\n",
    "        yzahyo1.append(s1.pos.y)#座標を記録しているリスト。散布図を描画すれば軌跡がかけます\n",
    "\n",
    "if __name__ == '__main__':\n",
    "    main()"
   ]
  },
  {
   "cell_type": "code",
   "execution_count": 2,
   "id": "6dca3083",
   "metadata": {},
   "outputs": [
    {
     "data": {
      "text/plain": [
       "<Axes: >"
      ]
     },
     "execution_count": 2,
     "metadata": {},
     "output_type": "execute_result"
    },
    {
     "data": {
      "image/png": "[encoded data removed]",
      "text/plain": [
       "<Figure size 640x480 with 1 Axes>"
      ]
     },
     "metadata": {},
     "output_type": "display_data"
    }
   ],
   "source": [
    "import seaborn as sns\n",
    "sns.scatterplot(x=xzahyo,y=yzahyo)\n"
   ]
  },
  {
   "cell_type": "code",
   "execution_count": null,
   "id": "580583ff",
   "metadata": {},
   "outputs": [],
   "source": []
  }
 ],
 "metadata": {
  "kernelspec": {
   "display_name": "Python 3 (ipykernel)",
   "language": "python",
   "name": "python3"
  },
  "language_info": {
   "codemirror_mode": {
    "name": "ipython",
    "version": 3
   },
   "file_extension": ".py",
   "mimetype": "text/x-python",
   "name": "python",
   "nbconvert_exporter": "python",
   "pygments_lexer": "ipython3",
   "version": "3.11.3"
  }
 },
 "nbformat": 4,
 "nbformat_minor": 5
}
